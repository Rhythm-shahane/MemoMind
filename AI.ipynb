{
  "nbformat": 4,
  "nbformat_minor": 0,
  "metadata": {
    "colab": {
      "provenance": []
    },
    "kernelspec": {
      "name": "python3",
      "display_name": "Python 3"
    },
    "language_info": {
      "name": "python"
    }
  },
  "cells": [
    {
      "cell_type": "code",
      "execution_count": 2,
      "metadata": {
        "colab": {
          "base_uri": "https://localhost:8080/"
        },
        "id": "99jENuxECUfj",
        "outputId": "45b15f57-995a-4b76-a5cd-1224d0b862b5"
      },
      "outputs": [
        {
          "output_type": "stream",
          "name": "stdout",
          "text": [
            "Collecting twelvelabs\n",
            "  Downloading twelvelabs-0.1.24-py3-none-any.whl (29 kB)\n",
            "Collecting pydantic==2.4.2 (from twelvelabs)\n",
            "  Downloading pydantic-2.4.2-py3-none-any.whl (395 kB)\n",
            "\u001b[2K     \u001b[90m━━━━━━━━━━━━━━━━━━━━━━━━━━━━━━━━━━━━━━━━\u001b[0m \u001b[32m395.8/395.8 kB\u001b[0m \u001b[31m8.4 MB/s\u001b[0m eta \u001b[36m0:00:00\u001b[0m\n",
            "\u001b[?25hCollecting httpx==0.25.2 (from twelvelabs)\n",
            "  Downloading httpx-0.25.2-py3-none-any.whl (74 kB)\n",
            "\u001b[2K     \u001b[90m━━━━━━━━━━━━━━━━━━━━━━━━━━━━━━━━━━━━━━━━\u001b[0m \u001b[32m75.0/75.0 kB\u001b[0m \u001b[31m5.2 MB/s\u001b[0m eta \u001b[36m0:00:00\u001b[0m\n",
            "\u001b[?25hRequirement already satisfied: anyio in /usr/local/lib/python3.10/dist-packages (from httpx==0.25.2->twelvelabs) (3.7.1)\n",
            "Requirement already satisfied: certifi in /usr/local/lib/python3.10/dist-packages (from httpx==0.25.2->twelvelabs) (2024.2.2)\n",
            "Collecting httpcore==1.* (from httpx==0.25.2->twelvelabs)\n",
            "  Downloading httpcore-1.0.5-py3-none-any.whl (77 kB)\n",
            "\u001b[2K     \u001b[90m━━━━━━━━━━━━━━━━━━━━━━━━━━━━━━━━━━━━━━━━\u001b[0m \u001b[32m77.9/77.9 kB\u001b[0m \u001b[31m9.9 MB/s\u001b[0m eta \u001b[36m0:00:00\u001b[0m\n",
            "\u001b[?25hRequirement already satisfied: idna in /usr/local/lib/python3.10/dist-packages (from httpx==0.25.2->twelvelabs) (3.7)\n",
            "Requirement already satisfied: sniffio in /usr/local/lib/python3.10/dist-packages (from httpx==0.25.2->twelvelabs) (1.3.1)\n",
            "Requirement already satisfied: annotated-types>=0.4.0 in /usr/local/lib/python3.10/dist-packages (from pydantic==2.4.2->twelvelabs) (0.7.0)\n",
            "Collecting pydantic-core==2.10.1 (from pydantic==2.4.2->twelvelabs)\n",
            "  Downloading pydantic_core-2.10.1-cp310-cp310-manylinux_2_17_x86_64.manylinux2014_x86_64.whl (2.0 MB)\n",
            "\u001b[2K     \u001b[90m━━━━━━━━━━━━━━━━━━━━━━━━━━━━━━━━━━━━━━━━\u001b[0m \u001b[32m2.0/2.0 MB\u001b[0m \u001b[31m11.9 MB/s\u001b[0m eta \u001b[36m0:00:00\u001b[0m\n",
            "\u001b[?25hRequirement already satisfied: typing-extensions>=4.6.1 in /usr/local/lib/python3.10/dist-packages (from pydantic==2.4.2->twelvelabs) (4.11.0)\n",
            "Collecting h11<0.15,>=0.13 (from httpcore==1.*->httpx==0.25.2->twelvelabs)\n",
            "  Downloading h11-0.14.0-py3-none-any.whl (58 kB)\n",
            "\u001b[2K     \u001b[90m━━━━━━━━━━━━━━━━━━━━━━━━━━━━━━━━━━━━━━━━\u001b[0m \u001b[32m58.3/58.3 kB\u001b[0m \u001b[31m7.9 MB/s\u001b[0m eta \u001b[36m0:00:00\u001b[0m\n",
            "\u001b[?25hRequirement already satisfied: exceptiongroup in /usr/local/lib/python3.10/dist-packages (from anyio->httpx==0.25.2->twelvelabs) (1.2.1)\n",
            "Installing collected packages: pydantic-core, h11, pydantic, httpcore, httpx, twelvelabs\n",
            "  Attempting uninstall: pydantic-core\n",
            "    Found existing installation: pydantic_core 2.18.2\n",
            "    Uninstalling pydantic_core-2.18.2:\n",
            "      Successfully uninstalled pydantic_core-2.18.2\n",
            "  Attempting uninstall: pydantic\n",
            "    Found existing installation: pydantic 2.7.1\n",
            "    Uninstalling pydantic-2.7.1:\n",
            "      Successfully uninstalled pydantic-2.7.1\n",
            "Successfully installed h11-0.14.0 httpcore-1.0.5 httpx-0.25.2 pydantic-2.4.2 pydantic-core-2.10.1 twelvelabs-0.1.24\n"
          ]
        }
      ],
      "source": [
        "!pip install twelvelabs\n",
        "from twelvelabs import TwelveLabs\n",
        "client = TwelveLabs(api_key=\"tlk_1D4DWDE37ATK1J2C5MWVD39ARCE1\")\n"
      ]
    },
    {
      "cell_type": "code",
      "source": [
        "!python -m pip install requests\n",
        "headers = {\n",
        "    \"x-api-key\": \"tlk_1D4DWDE37ATK1J2C5MWVD39ARCE1\"\n",
        "}\n",
        "INDEXES_URL = f\"{https://dashboard.twelvelabs.io/home}/indexes\"\n"
      ],
      "metadata": {
        "colab": {
          "base_uri": "https://localhost:8080/",
          "height": 283
        },
        "id": "beOCQEPMCu7I",
        "outputId": "5e5a62ca-3cb9-4433-a528-48b5832bfcd5"
      },
      "execution_count": 3,
      "outputs": [
        {
          "output_type": "stream",
          "name": "stdout",
          "text": [
            "Requirement already satisfied: requests in /usr/local/lib/python3.10/dist-packages (2.31.0)\n",
            "Requirement already satisfied: charset-normalizer<4,>=2 in /usr/local/lib/python3.10/dist-packages (from requests) (3.3.2)\n",
            "Requirement already satisfied: idna<4,>=2.5 in /usr/local/lib/python3.10/dist-packages (from requests) (3.7)\n",
            "Requirement already satisfied: urllib3<3,>=1.21.1 in /usr/local/lib/python3.10/dist-packages (from requests) (2.0.7)\n",
            "Requirement already satisfied: certifi>=2017.4.17 in /usr/local/lib/python3.10/dist-packages (from requests) (2024.2.2)\n"
          ]
        },
        {
          "output_type": "error",
          "ename": "NameError",
          "evalue": "name 'https' is not defined",
          "traceback": [
            "\u001b[0;31m---------------------------------------------------------------------------\u001b[0m",
            "\u001b[0;31mNameError\u001b[0m                                 Traceback (most recent call last)",
            "\u001b[0;32m<ipython-input-3-98ac862aa30e>\u001b[0m in \u001b[0;36m<cell line: 5>\u001b[0;34m()\u001b[0m\n\u001b[1;32m      3\u001b[0m     \u001b[0;34m\"x-api-key\"\u001b[0m\u001b[0;34m:\u001b[0m \u001b[0;34m\"tlk_1D4DWDE37ATK1J2C5MWVD39ARCE1\"\u001b[0m\u001b[0;34m\u001b[0m\u001b[0;34m\u001b[0m\u001b[0m\n\u001b[1;32m      4\u001b[0m }\n\u001b[0;32m----> 5\u001b[0;31m \u001b[0mINDEXES_URL\u001b[0m \u001b[0;34m=\u001b[0m \u001b[0;34mf\"{https://dashboard.twelvelabs.io/home}/indexes\"\u001b[0m\u001b[0;34m\u001b[0m\u001b[0;34m\u001b[0m\u001b[0m\n\u001b[0m",
            "\u001b[0;31mNameError\u001b[0m: name 'https' is not defined"
          ]
        }
      ]
    },
    {
      "source": [
        "!pip install twelvelabs\n",
        "from twelvelabs import TwelveLabs\n",
        "client = TwelveLabs(api_key=\"tlk_1D4DWDE37ATK1J2C5MWVD39ARCE1\")\n",
        "\n",
        "headers = {\n",
        "    \"x-api-key\": \"tlk_1D4DWDE37ATK1J2C5MWVD39ARCE1\"\n",
        "}\n",
        "INDEXES_URL = f\"https://dashboard.twelvelabs.io/home/indexes\"\n",
        "response = requests.get(INDEXES_URL, headers=headers)\n",
        "print(response.text)"
      ],
      "cell_type": "code",
      "metadata": {
        "colab": {
          "base_uri": "https://localhost:8080/",
          "height": 439
        },
        "id": "wZN0LzkxDUlo",
        "outputId": "4db756f1-aefb-4977-eae9-d30d4960c81b"
      },
      "execution_count": 4,
      "outputs": [
        {
          "output_type": "stream",
          "name": "stdout",
          "text": [
            "Requirement already satisfied: twelvelabs in /usr/local/lib/python3.10/dist-packages (0.1.24)\n",
            "Requirement already satisfied: pydantic==2.4.2 in /usr/local/lib/python3.10/dist-packages (from twelvelabs) (2.4.2)\n",
            "Requirement already satisfied: httpx==0.25.2 in /usr/local/lib/python3.10/dist-packages (from twelvelabs) (0.25.2)\n",
            "Requirement already satisfied: anyio in /usr/local/lib/python3.10/dist-packages (from httpx==0.25.2->twelvelabs) (3.7.1)\n",
            "Requirement already satisfied: certifi in /usr/local/lib/python3.10/dist-packages (from httpx==0.25.2->twelvelabs) (2024.2.2)\n",
            "Requirement already satisfied: httpcore==1.* in /usr/local/lib/python3.10/dist-packages (from httpx==0.25.2->twelvelabs) (1.0.5)\n",
            "Requirement already satisfied: idna in /usr/local/lib/python3.10/dist-packages (from httpx==0.25.2->twelvelabs) (3.7)\n",
            "Requirement already satisfied: sniffio in /usr/local/lib/python3.10/dist-packages (from httpx==0.25.2->twelvelabs) (1.3.1)\n",
            "Requirement already satisfied: annotated-types>=0.4.0 in /usr/local/lib/python3.10/dist-packages (from pydantic==2.4.2->twelvelabs) (0.7.0)\n",
            "Requirement already satisfied: pydantic-core==2.10.1 in /usr/local/lib/python3.10/dist-packages (from pydantic==2.4.2->twelvelabs) (2.10.1)\n",
            "Requirement already satisfied: typing-extensions>=4.6.1 in /usr/local/lib/python3.10/dist-packages (from pydantic==2.4.2->twelvelabs) (4.11.0)\n",
            "Requirement already satisfied: h11<0.15,>=0.13 in /usr/local/lib/python3.10/dist-packages (from httpcore==1.*->httpx==0.25.2->twelvelabs) (0.14.0)\n",
            "Requirement already satisfied: exceptiongroup in /usr/local/lib/python3.10/dist-packages (from anyio->httpx==0.25.2->twelvelabs) (1.2.1)\n"
          ]
        },
        {
          "output_type": "error",
          "ename": "NameError",
          "evalue": "name 'requests' is not defined",
          "traceback": [
            "\u001b[0;31m---------------------------------------------------------------------------\u001b[0m",
            "\u001b[0;31mNameError\u001b[0m                                 Traceback (most recent call last)",
            "\u001b[0;32m<ipython-input-4-8fed5e209913>\u001b[0m in \u001b[0;36m<cell line: 9>\u001b[0;34m()\u001b[0m\n\u001b[1;32m      7\u001b[0m }\n\u001b[1;32m      8\u001b[0m \u001b[0mINDEXES_URL\u001b[0m \u001b[0;34m=\u001b[0m \u001b[0;34mf\"https://dashboard.twelvelabs.io/home/indexes\"\u001b[0m\u001b[0;34m\u001b[0m\u001b[0;34m\u001b[0m\u001b[0m\n\u001b[0;32m----> 9\u001b[0;31m \u001b[0mresponse\u001b[0m \u001b[0;34m=\u001b[0m \u001b[0mrequests\u001b[0m\u001b[0;34m.\u001b[0m\u001b[0mget\u001b[0m\u001b[0;34m(\u001b[0m\u001b[0mINDEXES_URL\u001b[0m\u001b[0;34m,\u001b[0m \u001b[0mheaders\u001b[0m\u001b[0;34m=\u001b[0m\u001b[0mheaders\u001b[0m\u001b[0;34m)\u001b[0m\u001b[0;34m\u001b[0m\u001b[0;34m\u001b[0m\u001b[0m\n\u001b[0m\u001b[1;32m     10\u001b[0m \u001b[0mprint\u001b[0m\u001b[0;34m(\u001b[0m\u001b[0mresponse\u001b[0m\u001b[0;34m.\u001b[0m\u001b[0mtext\u001b[0m\u001b[0;34m)\u001b[0m\u001b[0;34m\u001b[0m\u001b[0;34m\u001b[0m\u001b[0m\n",
            "\u001b[0;31mNameError\u001b[0m: name 'requests' is not defined"
          ]
        }
      ]
    },
    {
      "cell_type": "code",
      "source": [
        "!pip install twelvelabs\n",
        "from twelvelabs import TwelveLabs\n",
        "client = TwelveLabs(api_key=\"tlk_1D4DWDE37ATK1J2C5MWVD39ARCE1\")\n",
        "\n",
        "headers = {\n",
        "    \"x-api-key\": \"tlk_1D4DWDE37ATK1J2C5MWVD39ARCE1\"\n",
        "}\n",
        "INDEXES_URL = f\"https://dashboard.twelvelabs.io/home/indexes\""
      ],
      "metadata": {
        "colab": {
          "base_uri": "https://localhost:8080/"
        },
        "id": "Cum4YB7EDhg1",
        "outputId": "3af91c09-2d14-4a9d-84a5-d013e4c79dd3"
      },
      "execution_count": 6,
      "outputs": [
        {
          "output_type": "stream",
          "name": "stdout",
          "text": [
            "Requirement already satisfied: twelvelabs in /usr/local/lib/python3.10/dist-packages (0.1.24)\n",
            "Requirement already satisfied: pydantic==2.4.2 in /usr/local/lib/python3.10/dist-packages (from twelvelabs) (2.4.2)\n",
            "Requirement already satisfied: httpx==0.25.2 in /usr/local/lib/python3.10/dist-packages (from twelvelabs) (0.25.2)\n",
            "Requirement already satisfied: anyio in /usr/local/lib/python3.10/dist-packages (from httpx==0.25.2->twelvelabs) (3.7.1)\n",
            "Requirement already satisfied: certifi in /usr/local/lib/python3.10/dist-packages (from httpx==0.25.2->twelvelabs) (2024.2.2)\n",
            "Requirement already satisfied: httpcore==1.* in /usr/local/lib/python3.10/dist-packages (from httpx==0.25.2->twelvelabs) (1.0.5)\n",
            "Requirement already satisfied: idna in /usr/local/lib/python3.10/dist-packages (from httpx==0.25.2->twelvelabs) (3.7)\n",
            "Requirement already satisfied: sniffio in /usr/local/lib/python3.10/dist-packages (from httpx==0.25.2->twelvelabs) (1.3.1)\n",
            "Requirement already satisfied: annotated-types>=0.4.0 in /usr/local/lib/python3.10/dist-packages (from pydantic==2.4.2->twelvelabs) (0.7.0)\n",
            "Requirement already satisfied: pydantic-core==2.10.1 in /usr/local/lib/python3.10/dist-packages (from pydantic==2.4.2->twelvelabs) (2.10.1)\n",
            "Requirement already satisfied: typing-extensions>=4.6.1 in /usr/local/lib/python3.10/dist-packages (from pydantic==2.4.2->twelvelabs) (4.11.0)\n",
            "Requirement already satisfied: h11<0.15,>=0.13 in /usr/local/lib/python3.10/dist-packages (from httpcore==1.*->httpx==0.25.2->twelvelabs) (0.14.0)\n",
            "Requirement already satisfied: exceptiongroup in /usr/local/lib/python3.10/dist-packages (from anyio->httpx==0.25.2->twelvelabs) (1.2.1)\n"
          ]
        }
      ]
    },
    {
      "cell_type": "code",
      "source": [
        "!python -m pip install requests\n",
        "headers = {\n",
        "    \"x-api-key\": \"tlk_1D4DWDE37ATK1J2C5MWVD39ARCE1\"\n",
        "}"
      ],
      "metadata": {
        "colab": {
          "base_uri": "https://localhost:8080/"
        },
        "id": "7XWhkppND4k2",
        "outputId": "9d4df295-c70f-4e01-c718-c25f942a8c3f"
      },
      "execution_count": 7,
      "outputs": [
        {
          "output_type": "stream",
          "name": "stdout",
          "text": [
            "Requirement already satisfied: requests in /usr/local/lib/python3.10/dist-packages (2.31.0)\n",
            "Requirement already satisfied: charset-normalizer<4,>=2 in /usr/local/lib/python3.10/dist-packages (from requests) (3.3.2)\n",
            "Requirement already satisfied: idna<4,>=2.5 in /usr/local/lib/python3.10/dist-packages (from requests) (3.7)\n",
            "Requirement already satisfied: urllib3<3,>=1.21.1 in /usr/local/lib/python3.10/dist-packages (from requests) (2.0.7)\n",
            "Requirement already satisfied: certifi>=2017.4.17 in /usr/local/lib/python3.10/dist-packages (from requests) (2024.2.2)\n"
          ]
        }
      ]
    },
    {
      "source": [
        "INDEXES_URL = f\"https://dashboard.twelvelabs.io/home/indexes\""
      ],
      "cell_type": "code",
      "metadata": {
        "id": "9FgZ8e6GEd9O"
      },
      "execution_count": 8,
      "outputs": []
    },
    {
      "cell_type": "code",
      "source": [
        "import requests\n"
      ],
      "metadata": {
        "id": "7qBadBc6Pmuc"
      },
      "execution_count": 10,
      "outputs": []
    },
    {
      "cell_type": "code",
      "source": [],
      "metadata": {
        "id": "vXJxrBChPuH5"
      },
      "execution_count": null,
      "outputs": []
    },
    {
      "source": [
        "# Install the requests module\n",
        "!pip install requests\n",
        "\n",
        "# Import the requests module\n",
        "import requests\n",
        "\n",
        "# Define the INDEX_NAME and data variables\n",
        "INDEX_NAME = \"<memomind>\"\n",
        "data = {\n",
        "    \"engines\": [\n",
        "      {\n",
        "        \"engine_name\": \"marengo2.6\",\n",
        "        \"engine_options\":  [\"visual\", \"conversation\", \"text_in_video\", \"logo\"]\n",
        "      }\n",
        "    ],\n",
        "    \"index_name\": INDEX_NAME,\n",
        "}\n",
        "\n",
        "# Set the INDEXES_URL and headers variables\n",
        "INDEXES_URL = f\"https://dashboard.twelvelabs.io/home/indexes\"\n",
        "headers = {\n",
        "    \"x-api-key\": \"tlk_1D4DWDE37ATK1J2C5MWVD39ARCE1\"\n",
        "}\n",
        "\n",
        "# Send the POST request to create the index\n",
        "response = requests.post(INDEXES_URL, headers=headers, json=data)\n",
        "\n",
        "# Print the status code and response\n",
        "print (f'Status code: {response.status_code}')\n",
        "print (response.json())"
      ],
      "cell_type": "code",
      "metadata": {
        "colab": {
          "base_uri": "https://localhost:8080/",
          "height": 602
        },
        "id": "3fmUR-nQPv2i",
        "outputId": "e59cc9e3-b0b7-4c89-ca72-d0a75dfbfe76"
      },
      "execution_count": 11,
      "outputs": [
        {
          "output_type": "stream",
          "name": "stdout",
          "text": [
            "Requirement already satisfied: requests in /usr/local/lib/python3.10/dist-packages (2.31.0)\n",
            "Requirement already satisfied: charset-normalizer<4,>=2 in /usr/local/lib/python3.10/dist-packages (from requests) (3.3.2)\n",
            "Requirement already satisfied: idna<4,>=2.5 in /usr/local/lib/python3.10/dist-packages (from requests) (3.7)\n",
            "Requirement already satisfied: urllib3<3,>=1.21.1 in /usr/local/lib/python3.10/dist-packages (from requests) (2.0.7)\n",
            "Requirement already satisfied: certifi>=2017.4.17 in /usr/local/lib/python3.10/dist-packages (from requests) (2024.2.2)\n",
            "Status code: 405\n"
          ]
        },
        {
          "output_type": "error",
          "ename": "JSONDecodeError",
          "evalue": "Expecting value: line 1 column 1 (char 0)",
          "traceback": [
            "\u001b[0;31m---------------------------------------------------------------------------\u001b[0m",
            "\u001b[0;31mJSONDecodeError\u001b[0m                           Traceback (most recent call last)",
            "\u001b[0;32m/usr/local/lib/python3.10/dist-packages/requests/models.py\u001b[0m in \u001b[0;36mjson\u001b[0;34m(self, **kwargs)\u001b[0m\n\u001b[1;32m    970\u001b[0m         \u001b[0;32mtry\u001b[0m\u001b[0;34m:\u001b[0m\u001b[0;34m\u001b[0m\u001b[0;34m\u001b[0m\u001b[0m\n\u001b[0;32m--> 971\u001b[0;31m             \u001b[0;32mreturn\u001b[0m \u001b[0mcomplexjson\u001b[0m\u001b[0;34m.\u001b[0m\u001b[0mloads\u001b[0m\u001b[0;34m(\u001b[0m\u001b[0mself\u001b[0m\u001b[0;34m.\u001b[0m\u001b[0mtext\u001b[0m\u001b[0;34m,\u001b[0m \u001b[0;34m**\u001b[0m\u001b[0mkwargs\u001b[0m\u001b[0;34m)\u001b[0m\u001b[0;34m\u001b[0m\u001b[0;34m\u001b[0m\u001b[0m\n\u001b[0m\u001b[1;32m    972\u001b[0m         \u001b[0;32mexcept\u001b[0m \u001b[0mJSONDecodeError\u001b[0m \u001b[0;32mas\u001b[0m \u001b[0me\u001b[0m\u001b[0;34m:\u001b[0m\u001b[0;34m\u001b[0m\u001b[0;34m\u001b[0m\u001b[0m\n",
            "\u001b[0;32m/usr/lib/python3.10/json/__init__.py\u001b[0m in \u001b[0;36mloads\u001b[0;34m(s, cls, object_hook, parse_float, parse_int, parse_constant, object_pairs_hook, **kw)\u001b[0m\n\u001b[1;32m    345\u001b[0m             parse_constant is None and object_pairs_hook is None and not kw):\n\u001b[0;32m--> 346\u001b[0;31m         \u001b[0;32mreturn\u001b[0m \u001b[0m_default_decoder\u001b[0m\u001b[0;34m.\u001b[0m\u001b[0mdecode\u001b[0m\u001b[0;34m(\u001b[0m\u001b[0ms\u001b[0m\u001b[0;34m)\u001b[0m\u001b[0;34m\u001b[0m\u001b[0;34m\u001b[0m\u001b[0m\n\u001b[0m\u001b[1;32m    347\u001b[0m     \u001b[0;32mif\u001b[0m \u001b[0mcls\u001b[0m \u001b[0;32mis\u001b[0m \u001b[0;32mNone\u001b[0m\u001b[0;34m:\u001b[0m\u001b[0;34m\u001b[0m\u001b[0;34m\u001b[0m\u001b[0m\n",
            "\u001b[0;32m/usr/lib/python3.10/json/decoder.py\u001b[0m in \u001b[0;36mdecode\u001b[0;34m(self, s, _w)\u001b[0m\n\u001b[1;32m    336\u001b[0m         \"\"\"\n\u001b[0;32m--> 337\u001b[0;31m         \u001b[0mobj\u001b[0m\u001b[0;34m,\u001b[0m \u001b[0mend\u001b[0m \u001b[0;34m=\u001b[0m \u001b[0mself\u001b[0m\u001b[0;34m.\u001b[0m\u001b[0mraw_decode\u001b[0m\u001b[0;34m(\u001b[0m\u001b[0ms\u001b[0m\u001b[0;34m,\u001b[0m \u001b[0midx\u001b[0m\u001b[0;34m=\u001b[0m\u001b[0m_w\u001b[0m\u001b[0;34m(\u001b[0m\u001b[0ms\u001b[0m\u001b[0;34m,\u001b[0m \u001b[0;36m0\u001b[0m\u001b[0;34m)\u001b[0m\u001b[0;34m.\u001b[0m\u001b[0mend\u001b[0m\u001b[0;34m(\u001b[0m\u001b[0;34m)\u001b[0m\u001b[0;34m)\u001b[0m\u001b[0;34m\u001b[0m\u001b[0;34m\u001b[0m\u001b[0m\n\u001b[0m\u001b[1;32m    338\u001b[0m         \u001b[0mend\u001b[0m \u001b[0;34m=\u001b[0m \u001b[0m_w\u001b[0m\u001b[0;34m(\u001b[0m\u001b[0ms\u001b[0m\u001b[0;34m,\u001b[0m \u001b[0mend\u001b[0m\u001b[0;34m)\u001b[0m\u001b[0;34m.\u001b[0m\u001b[0mend\u001b[0m\u001b[0;34m(\u001b[0m\u001b[0;34m)\u001b[0m\u001b[0;34m\u001b[0m\u001b[0;34m\u001b[0m\u001b[0m\n",
            "\u001b[0;32m/usr/lib/python3.10/json/decoder.py\u001b[0m in \u001b[0;36mraw_decode\u001b[0;34m(self, s, idx)\u001b[0m\n\u001b[1;32m    354\u001b[0m         \u001b[0;32mexcept\u001b[0m \u001b[0mStopIteration\u001b[0m \u001b[0;32mas\u001b[0m \u001b[0merr\u001b[0m\u001b[0;34m:\u001b[0m\u001b[0;34m\u001b[0m\u001b[0;34m\u001b[0m\u001b[0m\n\u001b[0;32m--> 355\u001b[0;31m             \u001b[0;32mraise\u001b[0m \u001b[0mJSONDecodeError\u001b[0m\u001b[0;34m(\u001b[0m\u001b[0;34m\"Expecting value\"\u001b[0m\u001b[0;34m,\u001b[0m \u001b[0ms\u001b[0m\u001b[0;34m,\u001b[0m \u001b[0merr\u001b[0m\u001b[0;34m.\u001b[0m\u001b[0mvalue\u001b[0m\u001b[0;34m)\u001b[0m \u001b[0;32mfrom\u001b[0m \u001b[0;32mNone\u001b[0m\u001b[0;34m\u001b[0m\u001b[0;34m\u001b[0m\u001b[0m\n\u001b[0m\u001b[1;32m    356\u001b[0m         \u001b[0;32mreturn\u001b[0m \u001b[0mobj\u001b[0m\u001b[0;34m,\u001b[0m \u001b[0mend\u001b[0m\u001b[0;34m\u001b[0m\u001b[0;34m\u001b[0m\u001b[0m\n",
            "\u001b[0;31mJSONDecodeError\u001b[0m: Expecting value: line 1 column 1 (char 0)",
            "\nDuring handling of the above exception, another exception occurred:\n",
            "\u001b[0;31mJSONDecodeError\u001b[0m                           Traceback (most recent call last)",
            "\u001b[0;32m<ipython-input-11-f65549949fcf>\u001b[0m in \u001b[0;36m<cell line: 30>\u001b[0;34m()\u001b[0m\n\u001b[1;32m     28\u001b[0m \u001b[0;31m# Print the status code and response\u001b[0m\u001b[0;34m\u001b[0m\u001b[0;34m\u001b[0m\u001b[0m\n\u001b[1;32m     29\u001b[0m \u001b[0mprint\u001b[0m \u001b[0;34m(\u001b[0m\u001b[0;34mf'Status code: {response.status_code}'\u001b[0m\u001b[0;34m)\u001b[0m\u001b[0;34m\u001b[0m\u001b[0;34m\u001b[0m\u001b[0m\n\u001b[0;32m---> 30\u001b[0;31m \u001b[0mprint\u001b[0m \u001b[0;34m(\u001b[0m\u001b[0mresponse\u001b[0m\u001b[0;34m.\u001b[0m\u001b[0mjson\u001b[0m\u001b[0;34m(\u001b[0m\u001b[0;34m)\u001b[0m\u001b[0;34m)\u001b[0m\u001b[0;34m\u001b[0m\u001b[0;34m\u001b[0m\u001b[0m\n\u001b[0m",
            "\u001b[0;32m/usr/local/lib/python3.10/dist-packages/requests/models.py\u001b[0m in \u001b[0;36mjson\u001b[0;34m(self, **kwargs)\u001b[0m\n\u001b[1;32m    973\u001b[0m             \u001b[0;31m# Catch JSON-related errors and raise as requests.JSONDecodeError\u001b[0m\u001b[0;34m\u001b[0m\u001b[0;34m\u001b[0m\u001b[0m\n\u001b[1;32m    974\u001b[0m             \u001b[0;31m# This aliases json.JSONDecodeError and simplejson.JSONDecodeError\u001b[0m\u001b[0;34m\u001b[0m\u001b[0;34m\u001b[0m\u001b[0m\n\u001b[0;32m--> 975\u001b[0;31m             \u001b[0;32mraise\u001b[0m \u001b[0mRequestsJSONDecodeError\u001b[0m\u001b[0;34m(\u001b[0m\u001b[0me\u001b[0m\u001b[0;34m.\u001b[0m\u001b[0mmsg\u001b[0m\u001b[0;34m,\u001b[0m \u001b[0me\u001b[0m\u001b[0;34m.\u001b[0m\u001b[0mdoc\u001b[0m\u001b[0;34m,\u001b[0m \u001b[0me\u001b[0m\u001b[0;34m.\u001b[0m\u001b[0mpos\u001b[0m\u001b[0;34m)\u001b[0m\u001b[0;34m\u001b[0m\u001b[0;34m\u001b[0m\u001b[0m\n\u001b[0m\u001b[1;32m    976\u001b[0m \u001b[0;34m\u001b[0m\u001b[0m\n\u001b[1;32m    977\u001b[0m     \u001b[0;34m@\u001b[0m\u001b[0mproperty\u001b[0m\u001b[0;34m\u001b[0m\u001b[0;34m\u001b[0m\u001b[0m\n",
            "\u001b[0;31mJSONDecodeError\u001b[0m: Expecting value: line 1 column 1 (char 0)"
          ]
        }
      ]
    },
    {
      "source": [
        "if response.status_code == 405:\n",
        "    print(\"Error: The server returned a 405 (Method Not Allowed) error.\")\n",
        "    print(\"Please check if you have the correct permissions to create an index.\")\n",
        "else:\n",
        "    print(response.json())"
      ],
      "cell_type": "code",
      "metadata": {
        "colab": {
          "base_uri": "https://localhost:8080/"
        },
        "id": "vfmfQ7FUQURp",
        "outputId": "6b8bcfb5-6c5a-4386-d3ac-b300c5eeb49a"
      },
      "execution_count": 12,
      "outputs": [
        {
          "output_type": "stream",
          "name": "stdout",
          "text": [
            "Error: The server returned a 405 (Method Not Allowed) error.\n",
            "Please check if you have the correct permissions to create an index.\n"
          ]
        }
      ]
    },
    {
      "source": [
        "import logging\n",
        "\n",
        "logging.basicConfig(level=logging.DEBUG)\n",
        "\n",
        "# ...\n",
        "\n",
        "response = requests.post(INDEXES_URL, headers=headers, json=data)"
      ],
      "cell_type": "code",
      "metadata": {
        "id": "4pnRee5gQVwD"
      },
      "execution_count": 13,
      "outputs": []
    },
    {
      "cell_type": "code",
      "source": [
        "from twelvelabs import TwelveLabs"
      ],
      "metadata": {
        "id": "ro1u7NfERRkF"
      },
      "execution_count": 14,
      "outputs": []
    },
    {
      "cell_type": "code",
      "source": [
        "client = TwelveLabs(api_key=\"tlk_1D4DWDE37ATK1J2C5MWVD39ARCE1\")"
      ],
      "metadata": {
        "id": "OA8LYO5GRVM1"
      },
      "execution_count": 15,
      "outputs": []
    },
    {
      "cell_type": "code",
      "source": [
        "engines = [\n",
        "        {\n",
        "          \"name\": \"marengo2.6\",\n",
        "          \"options\": [\"visual\", \"conversation\", \"text_in_video\", \"logo\"]\n",
        "        }\n",
        "  ]\n",
        ""
      ],
      "metadata": {
        "id": "g4MdIdEDR3Ko"
      },
      "execution_count": 16,
      "outputs": []
    },
    {
      "cell_type": "code",
      "source": [
        "engines = [\n",
        "        {\n",
        "            \"name\": \"pegasus1\",\n",
        "            \"options\": [\"visual\", \"conversation\"]\n",
        "        }\n",
        "    ]"
      ],
      "metadata": {
        "id": "rQQ6rBVJR9hJ"
      },
      "execution_count": 17,
      "outputs": []
    },
    {
      "cell_type": "code",
      "source": [
        "engines = [\n",
        "        {\n",
        "            \"name\": \"pegasus1\",\n",
        "            \"options\": [\"visual\", \"conversation\"]\n",
        "        },\n",
        "        {\n",
        "          \"name\": \"marengo2.6\",\n",
        "          \"options\": [\"visual\", \"conversation\", \"text_in_video\", \"logo\"]\n",
        "        }\n",
        "    ]"
      ],
      "metadata": {
        "id": "c0vgd6o0SEOp"
      },
      "execution_count": 18,
      "outputs": []
    },
    {
      "cell_type": "code",
      "source": [
        "index = client.index.create(\n",
        "    name=\"<YOUR_INDEX_NAME>\",\n",
        "    engines=engines,\n",
        "    addons=[\"thumbnail\"] # Optional\n",
        ")\n",
        "print(f\"A new index has been created: id={index.id} name={index.name} engines={index.engines}\")"
      ],
      "metadata": {
        "colab": {
          "base_uri": "https://localhost:8080/"
        },
        "id": "RzOFcGEWSGOn",
        "outputId": "ee7869cf-b810-426f-9526-2d5780f881cb"
      },
      "execution_count": 19,
      "outputs": [
        {
          "output_type": "stream",
          "name": "stdout",
          "text": [
            "A new index has been created: id=6652c2d127f0a43b740fd8bb name=<YOUR_INDEX_NAME> engines=root=[Engine(name='marengo2.6', options=['visual', 'conversation', 'text_in_video', 'logo'], addons=None), Engine(name='pegasus1', options=['visual', 'conversation'], addons=None)]\n"
          ]
        }
      ]
    },
    {
      "cell_type": "code",
      "source": [],
      "metadata": {
        "id": "jORmA14SU8U9"
      },
      "execution_count": null,
      "outputs": []
    },
    {
      "cell_type": "code",
      "source": [],
      "metadata": {
        "id": "dGRXP4ipU9--"
      },
      "execution_count": null,
      "outputs": []
    },
    {
      "cell_type": "code",
      "source": [
        "from twelvelabs import TwelveLabs\n",
        "from twelvelabs.models.task import Task"
      ],
      "metadata": {
        "id": "GzxhEN3-SbeF"
      },
      "execution_count": 20,
      "outputs": []
    },
    {
      "cell_type": "code",
      "source": [
        "client = TwelveLabs(api_key=\"tlk_1D4DWDE37ATK1J2C5MWVD39ARCE1\")"
      ],
      "metadata": {
        "id": "LT6AyrYuSeog"
      },
      "execution_count": 25,
      "outputs": []
    },
    {
      "cell_type": "code",
      "source": [
        "task = client.task.create(\n",
        "  index_id=\"6652c2d127f0a43b740fd8bb\",\n",
        "  file=\"/content/WhatsApp Video 2024-05-26 at 10.44.25.mp4\",\n",
        ")\n",
        "print(f\"Task id={task.id}\")"
      ],
      "metadata": {
        "colab": {
          "base_uri": "https://localhost:8080/"
        },
        "id": "hucuxK05VFwF",
        "outputId": "e6455769-3bd9-47c9-849e-de8a49406c4a"
      },
      "execution_count": 27,
      "outputs": [
        {
          "output_type": "stream",
          "name": "stdout",
          "text": [
            "Task id=6652c6b327f0a43b740fd8c5\n"
          ]
        }
      ]
    },
    {
      "cell_type": "code",
      "source": [
        "# Utility function to print the status of a video indexing task\n",
        "def on_task_update(task: Task):\n",
        "      print(f\"  Status={task.status}\")\n",
        "\n",
        "task.wait_for_done(sleep_interval=5, callback=on_task_update)\n",
        "\n",
        "if task.status != \"ready\":\n",
        "  raise RuntimeError(f\"Indexing failed with status {task.status}\")\n",
        "print(f\"The unique identifer of your video is {task.video_id}.\")"
      ],
      "metadata": {
        "colab": {
          "base_uri": "https://localhost:8080/"
        },
        "id": "8dRZYICOWS6Q",
        "outputId": "2b8d63f8-40e1-44c8-a004-24bd916070ae"
      },
      "execution_count": 28,
      "outputs": [
        {
          "output_type": "stream",
          "name": "stdout",
          "text": [
            "  Status=pending\n",
            "  Status=pending\n",
            "  Status=pending\n",
            "  Status=pending\n",
            "  Status=pending\n",
            "  Status=pending\n",
            "  Status=pending\n",
            "  Status=pending\n",
            "  Status=pending\n",
            "  Status=pending\n",
            "  Status=pending\n",
            "  Status=pending\n",
            "  Status=pending\n",
            "  Status=pending\n",
            "  Status=indexing\n",
            "  Status=indexing\n",
            "  Status=indexing\n",
            "  Status=indexing\n",
            "  Status=indexing\n",
            "  Status=indexing\n",
            "  Status=indexing\n",
            "  Status=indexing\n",
            "  Status=ready\n",
            "The unique identifer of your video is 6652c6b4d22b3a3c97bef629.\n"
          ]
        }
      ]
    },
    {
      "cell_type": "code",
      "source": [
        "from twelvelabs import TwelveLabs\n",
        "\n",
        "client = TwelveLabs(api_key=\"tlk_1D4DWDE37ATK1J2C5MWVD39ARCE1\")\n",
        "\n",
        "gist = client.generate.gist(\n",
        "  video_id=\"6652c6b4d22b3a3c97bef629\",\n",
        "  types=[\"title\",\"topic\",\"hashtag\"]\n",
        ")\n",
        "print(f\"Title={gist.title}\\nTopic={gist.topics}\\nHashtags={gist.hashtags}\")\n"
      ],
      "metadata": {
        "colab": {
          "base_uri": "https://localhost:8080/"
        },
        "id": "SMa0UoVqV6Qi",
        "outputId": "691a879b-1da8-4bf6-8ca2-58f40ffba9d5"
      },
      "execution_count": 33,
      "outputs": [
        {
          "output_type": "stream",
          "name": "stdout",
          "text": [
            "Title=A Leisurely Exploration of an Indian Palace: Visitors Appreciate Its Ornate Architecture\n",
            "Topic=[' Tour of an Indian Cultural Site\\n\\nExplanation: The video showcases a leisurely exploration of a historical or cultural site in India, featuring traditional architecture, courtyards, and visitors taking photographs and appreciating the history of the place. The main subject matter is a tour of an Indian cultural site.']\n",
            "Hashtags=['IndianArchitecture', 'HeritageTour', 'CulturalExploration', 'HistoricalSite', 'TravelPhotography', 'TouristAttraction', 'ArchitectureLovers']\n"
          ]
        }
      ]
    },
    {
      "cell_type": "code",
      "source": [
        "from twelvelabs import TwelveLabs\n",
        "\n",
        "client = TwelveLabs(api_key=\"tlk_1D4DWDE37ATK1J2C5MWVD39ARCE1\")\n",
        "\n",
        "res = client.generate.text(\n",
        "  video_id=\"/content/WhatsApp Video 2024-05-26 at 10.44.25.mp4\",\n",
        "  prompt=\"I want to generate a description for my video with the following format: Title of the video, followed by a summary in 2-3 sentences, highlighting the main topics.\"\n",
        ")\n",
        "print(f\"{res.data}\")"
      ],
      "metadata": {
        "id": "WlBq7_FIcG47",
        "outputId": "699f451f-cab2-40d3-b537-b789c2868cb7",
        "colab": {
          "base_uri": "https://localhost:8080/",
          "height": 530
        }
      },
      "execution_count": 34,
      "outputs": [
        {
          "output_type": "error",
          "ename": "BadRequestError",
          "evalue": "Error code: 400 - {'code': 'parameter_invalid', 'message': 'The following parameters are invalid: video_id.'}",
          "traceback": [
            "\u001b[0;31m---------------------------------------------------------------------------\u001b[0m",
            "\u001b[0;31mHTTPStatusError\u001b[0m                           Traceback (most recent call last)",
            "\u001b[0;32m/usr/local/lib/python3.10/dist-packages/twelvelabs/base_client.py\u001b[0m in \u001b[0;36m_request\u001b[0;34m(self, method, url, **kwargs)\u001b[0m\n\u001b[1;32m     35\u001b[0m         \u001b[0;32mtry\u001b[0m\u001b[0;34m:\u001b[0m\u001b[0;34m\u001b[0m\u001b[0;34m\u001b[0m\u001b[0m\n\u001b[0;32m---> 36\u001b[0;31m             \u001b[0mresponse\u001b[0m\u001b[0;34m.\u001b[0m\u001b[0mraise_for_status\u001b[0m\u001b[0;34m(\u001b[0m\u001b[0;34m)\u001b[0m\u001b[0;34m\u001b[0m\u001b[0;34m\u001b[0m\u001b[0m\n\u001b[0m\u001b[1;32m     37\u001b[0m         \u001b[0;32mexcept\u001b[0m \u001b[0mhttpx\u001b[0m\u001b[0;34m.\u001b[0m\u001b[0mHTTPStatusError\u001b[0m \u001b[0;32mas\u001b[0m \u001b[0me\u001b[0m\u001b[0;34m:\u001b[0m\u001b[0;34m\u001b[0m\u001b[0;34m\u001b[0m\u001b[0m\n",
            "\u001b[0;32m/usr/local/lib/python3.10/dist-packages/httpx/_models.py\u001b[0m in \u001b[0;36mraise_for_status\u001b[0;34m(self)\u001b[0m\n\u001b[1;32m    757\u001b[0m         \u001b[0mmessage\u001b[0m \u001b[0;34m=\u001b[0m \u001b[0mmessage\u001b[0m\u001b[0;34m.\u001b[0m\u001b[0mformat\u001b[0m\u001b[0;34m(\u001b[0m\u001b[0mself\u001b[0m\u001b[0;34m,\u001b[0m \u001b[0merror_type\u001b[0m\u001b[0;34m=\u001b[0m\u001b[0merror_type\u001b[0m\u001b[0;34m)\u001b[0m\u001b[0;34m\u001b[0m\u001b[0;34m\u001b[0m\u001b[0m\n\u001b[0;32m--> 758\u001b[0;31m         \u001b[0;32mraise\u001b[0m \u001b[0mHTTPStatusError\u001b[0m\u001b[0;34m(\u001b[0m\u001b[0mmessage\u001b[0m\u001b[0;34m,\u001b[0m \u001b[0mrequest\u001b[0m\u001b[0;34m=\u001b[0m\u001b[0mrequest\u001b[0m\u001b[0;34m,\u001b[0m \u001b[0mresponse\u001b[0m\u001b[0;34m=\u001b[0m\u001b[0mself\u001b[0m\u001b[0;34m)\u001b[0m\u001b[0;34m\u001b[0m\u001b[0;34m\u001b[0m\u001b[0m\n\u001b[0m\u001b[1;32m    759\u001b[0m \u001b[0;34m\u001b[0m\u001b[0m\n",
            "\u001b[0;31mHTTPStatusError\u001b[0m: Client error '400 Bad Request' for url 'https://api.twelvelabs.io/v1.2/generate'\nFor more information check: https://developer.mozilla.org/en-US/docs/Web/HTTP/Status/400",
            "\nDuring handling of the above exception, another exception occurred:\n",
            "\u001b[0;31mBadRequestError\u001b[0m                           Traceback (most recent call last)",
            "\u001b[0;32m<ipython-input-34-7d7ac69dc8b7>\u001b[0m in \u001b[0;36m<cell line: 5>\u001b[0;34m()\u001b[0m\n\u001b[1;32m      3\u001b[0m \u001b[0mclient\u001b[0m \u001b[0;34m=\u001b[0m \u001b[0mTwelveLabs\u001b[0m\u001b[0;34m(\u001b[0m\u001b[0mapi_key\u001b[0m\u001b[0;34m=\u001b[0m\u001b[0;34m\"tlk_1D4DWDE37ATK1J2C5MWVD39ARCE1\"\u001b[0m\u001b[0;34m)\u001b[0m\u001b[0;34m\u001b[0m\u001b[0;34m\u001b[0m\u001b[0m\n\u001b[1;32m      4\u001b[0m \u001b[0;34m\u001b[0m\u001b[0m\n\u001b[0;32m----> 5\u001b[0;31m res = client.generate.text(\n\u001b[0m\u001b[1;32m      6\u001b[0m   \u001b[0mvideo_id\u001b[0m\u001b[0;34m=\u001b[0m\u001b[0;34m\"/content/WhatsApp Video 2024-05-26 at 10.44.25.mp4\"\u001b[0m\u001b[0;34m,\u001b[0m\u001b[0;34m\u001b[0m\u001b[0;34m\u001b[0m\u001b[0m\n\u001b[1;32m      7\u001b[0m   \u001b[0mprompt\u001b[0m\u001b[0;34m=\u001b[0m\u001b[0;34m\"I want to generate a description for my video with the following format: Title of the video, followed by a summary in 2-3 sentences, highlighting the main topics.\"\u001b[0m\u001b[0;34m\u001b[0m\u001b[0;34m\u001b[0m\u001b[0m\n",
            "\u001b[0;32m/usr/local/lib/python3.10/dist-packages/twelvelabs/resources/generate.py\u001b[0m in \u001b[0;36mtext\u001b[0;34m(self, video_id, prompt, temperature, **kwargs)\u001b[0m\n\u001b[1;32m     51\u001b[0m             \u001b[0;34m\"temperature\"\u001b[0m\u001b[0;34m:\u001b[0m \u001b[0mtemperature\u001b[0m\u001b[0;34m,\u001b[0m\u001b[0;34m\u001b[0m\u001b[0;34m\u001b[0m\u001b[0m\n\u001b[1;32m     52\u001b[0m         }\n\u001b[0;32m---> 53\u001b[0;31m         \u001b[0mres\u001b[0m \u001b[0;34m=\u001b[0m \u001b[0mself\u001b[0m\u001b[0;34m.\u001b[0m\u001b[0m_post\u001b[0m\u001b[0;34m(\u001b[0m\u001b[0;34m\"generate\"\u001b[0m\u001b[0;34m,\u001b[0m \u001b[0mjson\u001b[0m\u001b[0;34m=\u001b[0m\u001b[0mjson\u001b[0m\u001b[0;34m,\u001b[0m \u001b[0;34m**\u001b[0m\u001b[0mkwargs\u001b[0m\u001b[0;34m)\u001b[0m\u001b[0;34m\u001b[0m\u001b[0;34m\u001b[0m\u001b[0m\n\u001b[0m\u001b[1;32m     54\u001b[0m         \u001b[0;32mreturn\u001b[0m \u001b[0mmodels\u001b[0m\u001b[0;34m.\u001b[0m\u001b[0mGenerateOpenEndedTextResult\u001b[0m\u001b[0;34m(\u001b[0m\u001b[0;34m**\u001b[0m\u001b[0mres\u001b[0m\u001b[0;34m)\u001b[0m\u001b[0;34m\u001b[0m\u001b[0;34m\u001b[0m\u001b[0m\n",
            "\u001b[0;32m/usr/local/lib/python3.10/dist-packages/twelvelabs/base_client.py\u001b[0m in \u001b[0;36mpost\u001b[0;34m(self, url, data, json, **kwargs)\u001b[0m\n\u001b[1;32m     95\u001b[0m         \u001b[0;34m**\u001b[0m\u001b[0mkwargs\u001b[0m\u001b[0;34m,\u001b[0m\u001b[0;34m\u001b[0m\u001b[0;34m\u001b[0m\u001b[0m\n\u001b[1;32m     96\u001b[0m     ) -> Any:\n\u001b[0;32m---> 97\u001b[0;31m         \u001b[0;32mreturn\u001b[0m \u001b[0mself\u001b[0m\u001b[0;34m.\u001b[0m\u001b[0m_request\u001b[0m\u001b[0;34m(\u001b[0m\u001b[0;34m\"POST\"\u001b[0m\u001b[0;34m,\u001b[0m \u001b[0murl\u001b[0m\u001b[0;34m,\u001b[0m \u001b[0mdata\u001b[0m\u001b[0;34m=\u001b[0m\u001b[0mdata\u001b[0m\u001b[0;34m,\u001b[0m \u001b[0mjson\u001b[0m\u001b[0;34m=\u001b[0m\u001b[0mjson\u001b[0m\u001b[0;34m,\u001b[0m \u001b[0;34m**\u001b[0m\u001b[0mkwargs\u001b[0m\u001b[0;34m)\u001b[0m\u001b[0;34m\u001b[0m\u001b[0;34m\u001b[0m\u001b[0m\n\u001b[0m\u001b[1;32m     98\u001b[0m \u001b[0;34m\u001b[0m\u001b[0m\n\u001b[1;32m     99\u001b[0m     def patch(\n",
            "\u001b[0;32m/usr/local/lib/python3.10/dist-packages/twelvelabs/base_client.py\u001b[0m in \u001b[0;36m_request\u001b[0;34m(self, method, url, **kwargs)\u001b[0m\n\u001b[1;32m     36\u001b[0m             \u001b[0mresponse\u001b[0m\u001b[0;34m.\u001b[0m\u001b[0mraise_for_status\u001b[0m\u001b[0;34m(\u001b[0m\u001b[0;34m)\u001b[0m\u001b[0;34m\u001b[0m\u001b[0;34m\u001b[0m\u001b[0m\n\u001b[1;32m     37\u001b[0m         \u001b[0;32mexcept\u001b[0m \u001b[0mhttpx\u001b[0m\u001b[0;34m.\u001b[0m\u001b[0mHTTPStatusError\u001b[0m \u001b[0;32mas\u001b[0m \u001b[0me\u001b[0m\u001b[0;34m:\u001b[0m\u001b[0;34m\u001b[0m\u001b[0;34m\u001b[0m\u001b[0m\n\u001b[0;32m---> 38\u001b[0;31m             \u001b[0;32mraise\u001b[0m \u001b[0mself\u001b[0m\u001b[0;34m.\u001b[0m\u001b[0m_make_status_error\u001b[0m\u001b[0;34m(\u001b[0m\u001b[0me\u001b[0m\u001b[0;34m.\u001b[0m\u001b[0mresponse\u001b[0m\u001b[0;34m)\u001b[0m\u001b[0;34m\u001b[0m\u001b[0;34m\u001b[0m\u001b[0m\n\u001b[0m\u001b[1;32m     39\u001b[0m \u001b[0;34m\u001b[0m\u001b[0m\n\u001b[1;32m     40\u001b[0m         \u001b[0;32mif\u001b[0m \u001b[0mlen\u001b[0m\u001b[0;34m(\u001b[0m\u001b[0mresponse\u001b[0m\u001b[0;34m.\u001b[0m\u001b[0mcontent\u001b[0m\u001b[0;34m)\u001b[0m \u001b[0;34m>\u001b[0m \u001b[0;36m0\u001b[0m \u001b[0;32mand\u001b[0m \u001b[0;34m\"application/json\"\u001b[0m \u001b[0;32min\u001b[0m \u001b[0mresponse\u001b[0m\u001b[0;34m.\u001b[0m\u001b[0mheaders\u001b[0m\u001b[0;34m.\u001b[0m\u001b[0mget\u001b[0m\u001b[0;34m(\u001b[0m\u001b[0;34m\"Content-Type\"\u001b[0m\u001b[0;34m,\u001b[0m \u001b[0;34m\"\"\u001b[0m\u001b[0;34m)\u001b[0m\u001b[0;34m:\u001b[0m\u001b[0;34m\u001b[0m\u001b[0;34m\u001b[0m\u001b[0m\n",
            "\u001b[0;31mBadRequestError\u001b[0m: Error code: 400 - {'code': 'parameter_invalid', 'message': 'The following parameters are invalid: video_id.'}"
          ]
        }
      ]
    },
    {
      "cell_type": "code",
      "source": [
        "# python -m pip install requests\n",
        "\n",
        "import requests\n",
        "\n",
        "# Construct the URL of the `/embed` endpoint\n",
        "BASE_URL = \"https://api.twelvelabs.io\"\n",
        "VERSION = \"v1.2\"\n",
        "EMBED_URL = f\"{BASE_URL}/{VERSION}/embed\"\n",
        "\n",
        "# Set the headers of the request\n",
        "headers = {\n",
        "    \"x-api-key\": \"tlk_1D4DWDE37ATK1J2C5MWVD39ARCE1\"\n",
        "}\n",
        "\n",
        "# Specify the body of the request\n",
        "data = {\n",
        "    \"engine_name\": \"Marengo-retrieval-2.6\",\n",
        "    \"text\": \"bollywood\",\n",
        "}\n",
        "\n",
        "# Invoke the POST method of the `/embed` endpoint\n",
        "response = requests.post(EMBED_URL, headers=headers, data=data)\n",
        "\n",
        "# Print the status code and the response\n",
        "print(f\"Status Code: {response.status_code}\")\n",
        "print(\"Response:\")\n",
        "print(response.json())"
      ],
      "metadata": {
        "id": "k8SxdWzFc7Ex",
        "outputId": "c815e949-d7a0-4ffd-8603-ad35434927b1",
        "colab": {
          "base_uri": "https://localhost:8080/"
        }
      },
      "execution_count": 36,
      "outputs": [
        {
          "output_type": "stream",
          "name": "stdout",
          "text": [
            "Status Code: 403\n",
            "Response:\n",
            "{'code': 'api_not_allowed', 'message': 'To use this API, please request to be enrolled in the Embed private beta at https://hg315pgvesr.typeform.com/to/q0VyBAd4'}\n"
          ]
        }
      ]
    },
    {
      "cell_type": "code",
      "source": [
        "# python -m pip install requests\n",
        "\n",
        "import requests\n",
        "\n",
        "# Construct the URL of the `/embed` endpoint\n",
        "BASE_URL = \"https://api.twelvelabs.io\"\n",
        "VERSION = \"v1.2\"\n",
        "EMBED_URL = f\"{BASE_URL}/{VERSION}/embed\"\n",
        "\n",
        "# Set the headers of the request\n",
        "headers = {\n",
        "    \"x-api-key\": \"tlk_1D4DWDE37ATK1J2C5MWVD39ARCE1\"\n",
        "}\n",
        "\n",
        "# Specify the body of the request\n",
        "data = {\n",
        "    \"engine_name\": \"Marengo-retrieval-2.6\",\n",
        "    \"text\": \"<YOUR_TEXT>\",\n",
        "}\n",
        "\n",
        "# Invoke the POST method of the `/embed` endpoint\n",
        "response = requests.post(EMBED_URL, headers=headers, data=data)\n",
        "\n",
        "# Print the status code and the response\n",
        "print(f\"Status Code: {response.status_code}\")\n",
        "print(\"Response:\")\n",
        "print(response.json())"
      ],
      "metadata": {
        "id": "W2QE8iZSeWmI",
        "outputId": "83e9f639-7e35-4fb1-ba6e-ecca3d5634e9",
        "colab": {
          "base_uri": "https://localhost:8080/"
        }
      },
      "execution_count": 37,
      "outputs": [
        {
          "output_type": "stream",
          "name": "stdout",
          "text": [
            "Status Code: 403\n",
            "Response:\n",
            "{'code': 'api_not_allowed', 'message': 'To use this API, please request to be enrolled in the Embed private beta at https://hg315pgvesr.typeform.com/to/q0VyBAd4'}\n"
          ]
        }
      ]
    },
    {
      "cell_type": "code",
      "source": [
        "from twelvelabs import TwelveLabs\n",
        "\n",
        "client = TwelveLabs(api_key=\"tlk_1D4DWDE37ATK1J2C5MWVD39ARCE1\")\n",
        "\n",
        "res = client.generate.text(\n",
        "  video_id=\"6652c6b4d22b3a3c97bef629\",\n",
        "  prompt=\"I want to generate a description for my video with the following format: Title of the video, followed by a summary in 2-3 sentences, highlighting the main topics.\"\n",
        ")\n",
        "print(f\"{res.data}\")"
      ],
      "metadata": {
        "id": "-whwKT8-fMKf",
        "outputId": "17eff57b-ba92-424e-96c7-0e59985bc27d",
        "colab": {
          "base_uri": "https://localhost:8080/"
        }
      },
      "execution_count": 38,
      "outputs": [
        {
          "output_type": "stream",
          "name": "stdout",
          "text": [
            "Title: Exploring a Historic Palace Complex\n",
            "\n",
            "Summary: Embark on a captivating journey through the grandeur of a historic palace complex, where the essence of traditional Indian architecture is brought to life. This video offers a splendid visual tour, highlighting the intricate designs and ornate carvings that adorn the majestic courtyards and archways of the palace. As viewers traverse the expansive premises, they encounter individuals deeply immersed in the cultural experience, capturing memories through photographs and leisurely strolling through the serene environment. This exploration not only showcases the architectural beauty of the palace but also provides a glimpse into the daily interactions and experiences of visitors, creating a comprehensive narrative of the site's enduring legacy and cultural significance.\n"
          ]
        }
      ]
    },
    {
      "cell_type": "code",
      "source": [
        "# python -m pip install requests\n",
        "\n",
        "import requests\n",
        "\n",
        "# Construct the URL of the `/embed` endpoint\n",
        "BASE_URL = \"https://api.twelvelabs.io\"\n",
        "VERSION = \"v1.2\"\n",
        "EMBED_URL = f\"{BASE_URL}/{VERSION}/embed\"\n",
        "\n",
        "# Set the headers of the request\n",
        "headers = {\n",
        "    \"x-api-key\": \"tlk_1D4DWDE37ATK1J2C5MWVD39ARCE1\"\n",
        "}\n",
        "\n",
        "# Specify the body of the request\n",
        "data = {\n",
        "    \"engine_name\": \"Marengo-retrieval-2.6\",\n",
        "    \"text\": \"<YOUR_TEXT>\",\n",
        "}\n",
        "\n",
        "# Invoke the POST method of the `/embed` endpoint\n",
        "response = requests.post(EMBED_URL, headers=headers, data=data)\n",
        "\n",
        "# Print the status code and the response\n",
        "print(f\"Status Code: {response.status_code}\")\n",
        "print(\"Response:\")\n",
        "print(response.json())"
      ],
      "metadata": {
        "id": "wV2JxsKFgQgk",
        "outputId": "da4cf29e-441b-4dd5-dd9a-a97ad847ac0a",
        "colab": {
          "base_uri": "https://localhost:8080/"
        }
      },
      "execution_count": 39,
      "outputs": [
        {
          "output_type": "stream",
          "name": "stdout",
          "text": [
            "Status Code: 403\n",
            "Response:\n",
            "{'code': 'api_not_allowed', 'message': 'To use this API, please request to be enrolled in the Embed private beta at https://hg315pgvesr.typeform.com/to/q0VyBAd4'}\n"
          ]
        }
      ]
    }
  ]
}
